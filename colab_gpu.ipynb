{
 "cells": [
  {
   "cell_type": "markdown",
   "metadata": {
    "colab_type": "text",
    "id": "view-in-github"
   },
   "source": [
    "<a href=\"https://colab.research.google.com/github/zzh8829/yolov3-tf2/blob/master/colab_gpu.ipynb\" target=\"_parent\"><img src=\"https://colab.research.google.com/assets/colab-badge.svg\" alt=\"Open In Colab\"/></a>"
   ]
  },
  {
   "cell_type": "markdown",
   "metadata": {
    "colab_type": "text",
    "id": "51bQlVgjmnWf"
   },
   "source": [
    "# YoloV3 TF2 GPU Colab Notebook\n",
    "\n",
    "##### 1.  Clone and install dependencies \n",
    "\n",
    "**IMPORTANT**: Restart following the instruction"
   ]
  },
  {
   "cell_type": "code",
   "execution_count": null,
   "metadata": {
    "colab": {
     "base_uri": "https://localhost:8080/",
     "height": 1000
    },
    "colab_type": "code",
    "id": "cpn-5i4VHbht",
    "outputId": "7b1b96df-f538-4bfc-d1f3-e686cc56a493"
   },
   "outputs": [],
   "source": [
    "#!git clone https://github.com/zzh8829/yolov3-tf2\n",
    "#%cd yolov3-tf2/\n",
    "#!pip install -r requirements-gpu.txt"
   ]
  },
  {
   "cell_type": "markdown",
   "metadata": {
    "colab_type": "text",
    "id": "EIUMAdGXm46J"
   },
   "source": [
    "##### 2.  Check Tensorflow2 version"
   ]
  },
  {
   "cell_type": "code",
   "execution_count": 3,
   "metadata": {
    "colab": {
     "base_uri": "https://localhost:8080/",
     "height": 136
    },
    "colab_type": "code",
    "id": "oyrsdB9THu-8",
    "outputId": "a0b04911-7396-4807-af0d-04975315ac77"
   },
   "outputs": [
    {
     "name": "stdout",
     "output_type": "stream",
     "text": [
      "[Errno 2] No such file or directory: 'yolov3-tf2/'\n",
      "/home/pohjao/Source/yolov3-tf2-auair\n",
      "checkpoints\t data\t\t  docs\t     requirements-gpu.txt  tools\r\n",
      "colab_gpu.ipynb  detect.py\t  LICENSE    requirements.txt\t   train.py\r\n",
      "convert.py\t detect_video.py  README.md  setup.py\t\t   yolov3_tf2\r\n"
     ]
    },
    {
     "data": {
      "text/plain": [
       "'2.2.0'"
      ]
     },
     "execution_count": 3,
     "metadata": {},
     "output_type": "execute_result"
    }
   ],
   "source": [
    "%cd yolov3-tf2/\n",
    "!ls\n",
    "\n",
    "import tensorflow as tf\n",
    "tf.__version__"
   ]
  },
  {
   "cell_type": "markdown",
   "metadata": {
    "colab_type": "text",
    "id": "wxD-M-g4nZf_"
   },
   "source": [
    "##### 3.  Convert Pretrained Darknet Weight"
   ]
  },
  {
   "cell_type": "code",
   "execution_count": 5,
   "metadata": {
    "colab": {
     "base_uri": "https://localhost:8080/",
     "height": 1000
    },
    "colab_type": "code",
    "id": "xymK200gmV25",
    "outputId": "f7c19fab-4f8b-4d5c-eed3-5b70c148065e"
   },
   "outputs": [
    {
     "name": "stdout",
     "output_type": "stream",
     "text": [
      "--2020-05-29 11:30:09--  https://pjreddie.com/media/files/yolov3.weights\n",
      "Selvitetään osoitetta pjreddie.com (pjreddie.com)... 128.208.4.108\n",
      "Yhdistetään palvelimeen pjreddie.com (pjreddie.com)|128.208.4.108|:443... yhdistetty.\n",
      "HTTP-pyyntö lähetetty, odotetaan vastausta... 200 OK\n",
      "Pituus: 248007048 (237M) [application/octet-stream]\n",
      "Tallennetaan kohteeseen ”data/yolov3.weights”\n",
      "\n",
      "data/yolov3.weights 100%[===================>] 236,52M   105KB/s    in 49m 6s  \n",
      "\n",
      "2020-05-29 12:19:18 (82,2 KB/s) - ”data/yolov3.weights” tallennettu [248007048/248007048]\n",
      "\n",
      "2020-05-29 12:19:19.764226: I tensorflow/stream_executor/platform/default/dso_loader.cc:44] Successfully opened dynamic library libcuda.so.1\n",
      "2020-05-29 12:19:19.769441: I tensorflow/stream_executor/cuda/cuda_gpu_executor.cc:981] successful NUMA node read from SysFS had negative value (-1), but there must be at least one NUMA node, so returning NUMA node zero\n",
      "2020-05-29 12:19:19.769778: I tensorflow/core/common_runtime/gpu/gpu_device.cc:1561] Found device 0 with properties: \n",
      "pciBusID: 0000:01:00.0 name: GeForce GTX 1080 Ti computeCapability: 6.1\n",
      "coreClock: 1.683GHz coreCount: 28 deviceMemorySize: 10.91GiB deviceMemoryBandwidth: 451.17GiB/s\n",
      "2020-05-29 12:19:19.769916: I tensorflow/stream_executor/platform/default/dso_loader.cc:44] Successfully opened dynamic library libcudart.so.10.1\n",
      "2020-05-29 12:19:19.779707: I tensorflow/stream_executor/platform/default/dso_loader.cc:44] Successfully opened dynamic library libcublas.so.10\n",
      "2020-05-29 12:19:19.789388: I tensorflow/stream_executor/platform/default/dso_loader.cc:44] Successfully opened dynamic library libcufft.so.10\n",
      "2020-05-29 12:19:19.789746: I tensorflow/stream_executor/platform/default/dso_loader.cc:44] Successfully opened dynamic library libcurand.so.10\n",
      "2020-05-29 12:19:19.805738: I tensorflow/stream_executor/platform/default/dso_loader.cc:44] Successfully opened dynamic library libcusolver.so.10\n",
      "2020-05-29 12:19:19.806632: I tensorflow/stream_executor/platform/default/dso_loader.cc:44] Successfully opened dynamic library libcusparse.so.10\n",
      "2020-05-29 12:19:19.813800: I tensorflow/stream_executor/platform/default/dso_loader.cc:44] Successfully opened dynamic library libcudnn.so.7\n",
      "2020-05-29 12:19:19.813957: I tensorflow/stream_executor/cuda/cuda_gpu_executor.cc:981] successful NUMA node read from SysFS had negative value (-1), but there must be at least one NUMA node, so returning NUMA node zero\n",
      "2020-05-29 12:19:19.814589: I tensorflow/stream_executor/cuda/cuda_gpu_executor.cc:981] successful NUMA node read from SysFS had negative value (-1), but there must be at least one NUMA node, so returning NUMA node zero\n",
      "2020-05-29 12:19:19.815085: I tensorflow/core/common_runtime/gpu/gpu_device.cc:1703] Adding visible gpu devices: 0\n",
      "2020-05-29 12:19:19.858142: I tensorflow/core/platform/cpu_feature_guard.cc:143] Your CPU supports instructions that this TensorFlow binary was not compiled to use: SSE4.1 SSE4.2 AVX AVX2 FMA\n",
      "2020-05-29 12:19:19.887808: I tensorflow/core/platform/profile_utils/cpu_utils.cc:102] CPU Frequency: 3600000000 Hz\n",
      "2020-05-29 12:19:19.888359: I tensorflow/compiler/xla/service/service.cc:168] XLA service 0x558d600c8420 initialized for platform Host (this does not guarantee that XLA will be used). Devices:\n",
      "2020-05-29 12:19:19.888377: I tensorflow/compiler/xla/service/service.cc:176]   StreamExecutor device (0): Host, Default Version\n",
      "2020-05-29 12:19:19.888638: I tensorflow/stream_executor/cuda/cuda_gpu_executor.cc:981] successful NUMA node read from SysFS had negative value (-1), but there must be at least one NUMA node, so returning NUMA node zero\n",
      "2020-05-29 12:19:19.889319: I tensorflow/core/common_runtime/gpu/gpu_device.cc:1561] Found device 0 with properties: \n",
      "pciBusID: 0000:01:00.0 name: GeForce GTX 1080 Ti computeCapability: 6.1\n",
      "coreClock: 1.683GHz coreCount: 28 deviceMemorySize: 10.91GiB deviceMemoryBandwidth: 451.17GiB/s\n",
      "2020-05-29 12:19:19.889437: I tensorflow/stream_executor/platform/default/dso_loader.cc:44] Successfully opened dynamic library libcudart.so.10.1\n",
      "2020-05-29 12:19:19.889468: I tensorflow/stream_executor/platform/default/dso_loader.cc:44] Successfully opened dynamic library libcublas.so.10\n",
      "2020-05-29 12:19:19.889481: I tensorflow/stream_executor/platform/default/dso_loader.cc:44] Successfully opened dynamic library libcufft.so.10\n",
      "2020-05-29 12:19:19.889493: I tensorflow/stream_executor/platform/default/dso_loader.cc:44] Successfully opened dynamic library libcurand.so.10\n",
      "2020-05-29 12:19:19.889517: I tensorflow/stream_executor/platform/default/dso_loader.cc:44] Successfully opened dynamic library libcusolver.so.10\n",
      "2020-05-29 12:19:19.889542: I tensorflow/stream_executor/platform/default/dso_loader.cc:44] Successfully opened dynamic library libcusparse.so.10\n",
      "2020-05-29 12:19:19.889556: I tensorflow/stream_executor/platform/default/dso_loader.cc:44] Successfully opened dynamic library libcudnn.so.7\n",
      "2020-05-29 12:19:19.889642: I tensorflow/stream_executor/cuda/cuda_gpu_executor.cc:981] successful NUMA node read from SysFS had negative value (-1), but there must be at least one NUMA node, so returning NUMA node zero\n",
      "2020-05-29 12:19:19.890117: I tensorflow/stream_executor/cuda/cuda_gpu_executor.cc:981] successful NUMA node read from SysFS had negative value (-1), but there must be at least one NUMA node, so returning NUMA node zero\n",
      "2020-05-29 12:19:19.890457: I tensorflow/core/common_runtime/gpu/gpu_device.cc:1703] Adding visible gpu devices: 0\n",
      "2020-05-29 12:19:19.890487: I tensorflow/stream_executor/platform/default/dso_loader.cc:44] Successfully opened dynamic library libcudart.so.10.1\n",
      "2020-05-29 12:19:20.025008: I tensorflow/core/common_runtime/gpu/gpu_device.cc:1102] Device interconnect StreamExecutor with strength 1 edge matrix:\n",
      "2020-05-29 12:19:20.025032: I tensorflow/core/common_runtime/gpu/gpu_device.cc:1108]      0 \n",
      "2020-05-29 12:19:20.025037: I tensorflow/core/common_runtime/gpu/gpu_device.cc:1121] 0:   N \n",
      "2020-05-29 12:19:20.027927: I tensorflow/stream_executor/cuda/cuda_gpu_executor.cc:981] successful NUMA node read from SysFS had negative value (-1), but there must be at least one NUMA node, so returning NUMA node zero\n",
      "2020-05-29 12:19:20.028260: I tensorflow/stream_executor/cuda/cuda_gpu_executor.cc:981] successful NUMA node read from SysFS had negative value (-1), but there must be at least one NUMA node, so returning NUMA node zero\n",
      "2020-05-29 12:19:20.028568: I tensorflow/stream_executor/cuda/cuda_gpu_executor.cc:981] successful NUMA node read from SysFS had negative value (-1), but there must be at least one NUMA node, so returning NUMA node zero\n",
      "2020-05-29 12:19:20.028861: I tensorflow/core/common_runtime/gpu/gpu_device.cc:1247] Created TensorFlow device (/job:localhost/replica:0/task:0/device:GPU:0 with 9928 MB memory) -> physical GPU (device: 0, name: GeForce GTX 1080 Ti, pci bus id: 0000:01:00.0, compute capability: 6.1)\n",
      "2020-05-29 12:19:20.030205: I tensorflow/compiler/xla/service/service.cc:168] XLA service 0x558d61018650 initialized for platform CUDA (this does not guarantee that XLA will be used). Devices:\n",
      "2020-05-29 12:19:20.030217: I tensorflow/compiler/xla/service/service.cc:176]   StreamExecutor device (0): GeForce GTX 1080 Ti, Compute Capability 6.1\n",
      "Model: \"yolov3\"\n",
      "__________________________________________________________________________________________________\n",
      "Layer (type)                    Output Shape         Param #     Connected to                     \n",
      "==================================================================================================\n",
      "input (InputLayer)              [(None, None, None,  0                                            \n",
      "__________________________________________________________________________________________________\n",
      "yolo_darknet (Model)            ((None, None, None,  40620640    input[0][0]                      \n",
      "__________________________________________________________________________________________________\n",
      "yolo_conv_0 (Model)             (None, None, None, 5 11024384    yolo_darknet[1][2]               \n",
      "__________________________________________________________________________________________________\n",
      "yolo_conv_1 (Model)             (None, None, None, 2 2957312     yolo_conv_0[1][0]                \n",
      "                                                                 yolo_darknet[1][1]               \n",
      "__________________________________________________________________________________________________\n",
      "yolo_conv_2 (Model)             (None, None, None, 1 741376      yolo_conv_1[1][0]                \n",
      "                                                                 yolo_darknet[1][0]               \n",
      "__________________________________________________________________________________________________\n",
      "yolo_output_0 (Model)           (None, None, None, 3 4984063     yolo_conv_0[1][0]                \n",
      "__________________________________________________________________________________________________\n",
      "yolo_output_1 (Model)           (None, None, None, 3 1312511     yolo_conv_1[1][0]                \n",
      "__________________________________________________________________________________________________\n",
      "yolo_output_2 (Model)           (None, None, None, 3 361471      yolo_conv_2[1][0]                \n",
      "__________________________________________________________________________________________________\n",
      "yolo_boxes_0 (Lambda)           ((None, None, None,  0           yolo_output_0[1][0]              \n",
      "__________________________________________________________________________________________________\n",
      "yolo_boxes_1 (Lambda)           ((None, None, None,  0           yolo_output_1[1][0]              \n",
      "__________________________________________________________________________________________________\n",
      "yolo_boxes_2 (Lambda)           ((None, None, None,  0           yolo_output_2[1][0]              \n",
      "__________________________________________________________________________________________________\n",
      "yolo_nms (Lambda)               ((None, 100, 4), (No 0           yolo_boxes_0[0][0]               \n",
      "                                                                 yolo_boxes_0[0][1]               \n",
      "                                                                 yolo_boxes_0[0][2]               \n",
      "                                                                 yolo_boxes_1[0][0]               \n",
      "                                                                 yolo_boxes_1[0][1]               \n",
      "                                                                 yolo_boxes_1[0][2]               \n",
      "                                                                 yolo_boxes_2[0][0]               \n",
      "                                                                 yolo_boxes_2[0][1]               \n",
      "                                                                 yolo_boxes_2[0][2]               \n",
      "==================================================================================================\n",
      "Total params: 62,001,757\n",
      "Trainable params: 61,949,149\n",
      "Non-trainable params: 52,608\n",
      "__________________________________________________________________________________________________\n",
      "I0529 12:19:23.519168 140677534705472 convert.py:24] model created\n",
      "I0529 12:19:23.520256 140677534705472 utils.py:44] yolo_darknet/conv2d bn\n",
      "I0529 12:19:23.522100 140677534705472 utils.py:44] yolo_darknet/conv2d_1 bn\n",
      "I0529 12:19:23.523900 140677534705472 utils.py:44] yolo_darknet/conv2d_2 bn\n",
      "I0529 12:19:23.525747 140677534705472 utils.py:44] yolo_darknet/conv2d_3 bn\n",
      "I0529 12:19:23.528237 140677534705472 utils.py:44] yolo_darknet/conv2d_4 bn\n",
      "I0529 12:19:23.530531 140677534705472 utils.py:44] yolo_darknet/conv2d_5 bn\n",
      "I0529 12:19:23.532731 140677534705472 utils.py:44] yolo_darknet/conv2d_6 bn\n",
      "I0529 12:19:23.534713 140677534705472 utils.py:44] yolo_darknet/conv2d_7 bn\n",
      "I0529 12:19:23.536390 140677534705472 utils.py:44] yolo_darknet/conv2d_8 bn\n",
      "I0529 12:19:23.538275 140677534705472 utils.py:44] yolo_darknet/conv2d_9 bn\n",
      "I0529 12:19:23.541992 140677534705472 utils.py:44] yolo_darknet/conv2d_10 bn\n",
      "I0529 12:19:23.544381 140677534705472 utils.py:44] yolo_darknet/conv2d_11 bn\n",
      "I0529 12:19:23.547914 140677534705472 utils.py:44] yolo_darknet/conv2d_12 bn\n",
      "I0529 12:19:23.549698 140677534705472 utils.py:44] yolo_darknet/conv2d_13 bn\n",
      "I0529 12:19:23.552115 140677534705472 utils.py:44] yolo_darknet/conv2d_14 bn\n",
      "I0529 12:19:23.553891 140677534705472 utils.py:44] yolo_darknet/conv2d_15 bn\n",
      "I0529 12:19:23.556313 140677534705472 utils.py:44] yolo_darknet/conv2d_16 bn\n",
      "I0529 12:19:23.558049 140677534705472 utils.py:44] yolo_darknet/conv2d_17 bn\n",
      "I0529 12:19:23.560480 140677534705472 utils.py:44] yolo_darknet/conv2d_18 bn\n",
      "I0529 12:19:23.562077 140677534705472 utils.py:44] yolo_darknet/conv2d_19 bn\n"
     ]
    },
    {
     "name": "stdout",
     "output_type": "stream",
     "text": [
      "I0529 12:19:23.564717 140677534705472 utils.py:44] yolo_darknet/conv2d_20 bn\n",
      "I0529 12:19:23.566517 140677534705472 utils.py:44] yolo_darknet/conv2d_21 bn\n",
      "I0529 12:19:23.569135 140677534705472 utils.py:44] yolo_darknet/conv2d_22 bn\n",
      "I0529 12:19:23.571105 140677534705472 utils.py:44] yolo_darknet/conv2d_23 bn\n",
      "I0529 12:19:23.573911 140677534705472 utils.py:44] yolo_darknet/conv2d_24 bn\n",
      "I0529 12:19:23.575590 140677534705472 utils.py:44] yolo_darknet/conv2d_25 bn\n",
      "I0529 12:19:23.578216 140677534705472 utils.py:44] yolo_darknet/conv2d_26 bn\n",
      "I0529 12:19:23.598922 140677534705472 utils.py:44] yolo_darknet/conv2d_27 bn\n",
      "I0529 12:19:23.601349 140677534705472 utils.py:44] yolo_darknet/conv2d_28 bn\n",
      "I0529 12:19:23.608920 140677534705472 utils.py:44] yolo_darknet/conv2d_29 bn\n",
      "I0529 12:19:23.611603 140677534705472 utils.py:44] yolo_darknet/conv2d_30 bn\n",
      "I0529 12:19:23.618819 140677534705472 utils.py:44] yolo_darknet/conv2d_31 bn\n",
      "I0529 12:19:23.621109 140677534705472 utils.py:44] yolo_darknet/conv2d_32 bn\n",
      "I0529 12:19:23.629318 140677534705472 utils.py:44] yolo_darknet/conv2d_33 bn\n",
      "I0529 12:19:23.631774 140677534705472 utils.py:44] yolo_darknet/conv2d_34 bn\n",
      "I0529 12:19:23.637605 140677534705472 utils.py:44] yolo_darknet/conv2d_35 bn\n",
      "I0529 12:19:23.640052 140677534705472 utils.py:44] yolo_darknet/conv2d_36 bn\n",
      "I0529 12:19:23.646219 140677534705472 utils.py:44] yolo_darknet/conv2d_37 bn\n",
      "I0529 12:19:23.648342 140677534705472 utils.py:44] yolo_darknet/conv2d_38 bn\n",
      "I0529 12:19:23.654331 140677534705472 utils.py:44] yolo_darknet/conv2d_39 bn\n",
      "I0529 12:19:23.656542 140677534705472 utils.py:44] yolo_darknet/conv2d_40 bn\n",
      "I0529 12:19:23.662100 140677534705472 utils.py:44] yolo_darknet/conv2d_41 bn\n",
      "I0529 12:19:23.664145 140677534705472 utils.py:44] yolo_darknet/conv2d_42 bn\n",
      "I0529 12:19:23.670609 140677534705472 utils.py:44] yolo_darknet/conv2d_43 bn\n",
      "I0529 12:19:23.774609 140677534705472 utils.py:44] yolo_darknet/conv2d_44 bn\n",
      "I0529 12:19:23.778882 140677534705472 utils.py:44] yolo_darknet/conv2d_45 bn\n",
      "I0529 12:19:23.829670 140677534705472 utils.py:44] yolo_darknet/conv2d_46 bn\n",
      "I0529 12:19:23.834819 140677534705472 utils.py:44] yolo_darknet/conv2d_47 bn\n",
      "I0529 12:19:23.880660 140677534705472 utils.py:44] yolo_darknet/conv2d_48 bn\n",
      "I0529 12:19:23.885746 140677534705472 utils.py:44] yolo_darknet/conv2d_49 bn\n",
      "I0529 12:19:23.927140 140677534705472 utils.py:44] yolo_darknet/conv2d_50 bn\n",
      "I0529 12:19:23.932244 140677534705472 utils.py:44] yolo_darknet/conv2d_51 bn\n",
      "I0529 12:19:23.969123 140677534705472 utils.py:44] yolo_conv_0/conv2d_52 bn\n",
      "I0529 12:19:23.974096 140677534705472 utils.py:44] yolo_conv_0/conv2d_53 bn\n",
      "I0529 12:19:24.010370 140677534705472 utils.py:44] yolo_conv_0/conv2d_54 bn\n",
      "I0529 12:19:24.014910 140677534705472 utils.py:44] yolo_conv_0/conv2d_55 bn\n",
      "I0529 12:19:24.052105 140677534705472 utils.py:44] yolo_conv_0/conv2d_56 bn\n",
      "I0529 12:19:24.056628 140677534705472 utils.py:44] yolo_output_0/conv2d_57 bn\n",
      "I0529 12:19:24.092749 140677534705472 utils.py:44] yolo_output_0/conv2d_58 bias\n",
      "I0529 12:19:24.095478 140677534705472 utils.py:44] yolo_conv_1/conv2d_59 bn\n",
      "I0529 12:19:24.097175 140677534705472 utils.py:44] yolo_conv_1/conv2d_60 bn\n",
      "I0529 12:19:24.098550 140677534705472 utils.py:44] yolo_conv_1/conv2d_61 bn\n",
      "I0529 12:19:24.105223 140677534705472 utils.py:44] yolo_conv_1/conv2d_62 bn\n",
      "I0529 12:19:24.106950 140677534705472 utils.py:44] yolo_conv_1/conv2d_63 bn\n",
      "I0529 12:19:24.112228 140677534705472 utils.py:44] yolo_conv_1/conv2d_64 bn\n",
      "I0529 12:19:24.113808 140677534705472 utils.py:44] yolo_output_1/conv2d_65 bn\n",
      "I0529 12:19:24.118620 140677534705472 utils.py:44] yolo_output_1/conv2d_66 bias\n",
      "I0529 12:19:24.119691 140677534705472 utils.py:44] yolo_conv_2/conv2d_67 bn\n",
      "I0529 12:19:24.121164 140677534705472 utils.py:44] yolo_conv_2/conv2d_68 bn\n",
      "I0529 12:19:24.122592 140677534705472 utils.py:44] yolo_conv_2/conv2d_69 bn\n",
      "I0529 12:19:24.124469 140677534705472 utils.py:44] yolo_conv_2/conv2d_70 bn\n",
      "I0529 12:19:24.125584 140677534705472 utils.py:44] yolo_conv_2/conv2d_71 bn\n",
      "I0529 12:19:24.127442 140677534705472 utils.py:44] yolo_conv_2/conv2d_72 bn\n",
      "I0529 12:19:24.128556 140677534705472 utils.py:44] yolo_output_2/conv2d_73 bn\n",
      "I0529 12:19:24.130100 140677534705472 utils.py:44] yolo_output_2/conv2d_74 bias\n",
      "I0529 12:19:24.130764 140677534705472 convert.py:27] weights loaded\n",
      "2020-05-29 12:19:24.181821: I tensorflow/stream_executor/platform/default/dso_loader.cc:44] Successfully opened dynamic library libcudnn.so.7\n",
      "2020-05-29 12:19:25.486017: I tensorflow/stream_executor/platform/default/dso_loader.cc:44] Successfully opened dynamic library libcublas.so.10\n",
      "I0529 12:19:26.113179 140677534705472 convert.py:31] sanity check passed\n",
      "I0529 12:19:26.490871 140677534705472 convert.py:34] weights saved\n"
     ]
    }
   ],
   "source": [
    "!wget https://pjreddie.com/media/files/yolov3.weights -O data/yolov3.weights\n",
    "!python convert.py"
   ]
  },
  {
   "cell_type": "markdown",
   "metadata": {
    "colab_type": "text",
    "id": "Up4Xcad81FSa"
   },
   "source": [
    "##### 4. Train with the AU-AIR dataset"
   ]
  },
  {
   "cell_type": "code",
   "execution_count": null,
   "metadata": {
    "colab": {
     "base_uri": "https://localhost:8080/",
     "height": 204
    },
    "colab_type": "code",
    "id": "-I8Ml-j4Iyuv",
    "outputId": "a1880906-4c01-4f08-a12b-ca2f37582a55"
   },
   "outputs": [],
   "source": [
    "#Download AU-AIR data and run tfrecord-conversion"
   ]
  },
  {
   "cell_type": "code",
   "execution_count": 4,
   "metadata": {
    "colab": {
     "base_uri": "https://localhost:8080/",
     "height": 173
    },
    "colab_type": "code",
    "id": "GwjLHBgPKblm",
    "outputId": "d76e3cc4-37a2-4615-c29f-6ea133d88bbd"
   },
   "outputs": [
    {
     "name": "stdout",
     "output_type": "stream",
     "text": [
      "Traceback (most recent call last):\r\n",
      "  File \"tools/visualize_dataset.py\", line 7, in <module>\r\n",
      "    from yolov3_tf2.models import (\r\n",
      "ModuleNotFoundError: No module named 'yolov3_tf2'\r\n"
     ]
    }
   ],
   "source": [
    "!python tools/visualize_dataset.py --dataset ./data/auair_train.tfrecord --classes=./data/auair.names"
   ]
  },
  {
   "cell_type": "code",
   "execution_count": null,
   "metadata": {
    "colab": {
     "base_uri": "https://localhost:8080/",
     "height": 433
    },
    "colab_type": "code",
    "id": "8OVCJuxQKuMM",
    "outputId": "748e8fb7-4294-4ce9-c436-fafbe1762b25"
   },
   "outputs": [],
   "source": [
    "from IPython.display import Image\n",
    "Image(filename='./output.jpg')"
   ]
  },
  {
   "cell_type": "code",
   "execution_count": null,
   "metadata": {
    "colab": {
     "base_uri": "https://localhost:8080/",
     "height": 887
    },
    "colab_type": "code",
    "id": "ZBhryo1I2dwG",
    "outputId": "79963b6f-7f30-4a3d-dd83-792ed28a790d"
   },
   "outputs": [],
   "source": [
    "!python train.py \\\n",
    "\t--dataset ./data/voc_train.tfrecord \\\n",
    "\t--val_dataset ./data/voc_val.tfrecord \\\n",
    "\t--classes ./data/voc2012.names \\\n",
    "\t--num_classes 20 \\\n",
    "\t--mode fit --transfer darknet \\\n",
    "\t--batch_size 16 \\\n",
    "\t--epochs 3 \\\n",
    "\t--weights ./checkpoints/yolov3.tf \\\n",
    "\t--weights_num_classes 80 "
   ]
  },
  {
   "cell_type": "markdown",
   "metadata": {
    "colab_type": "text",
    "id": "ySGg4Ols02rX"
   },
   "source": [
    "##### 4. Initialize Detector"
   ]
  },
  {
   "cell_type": "code",
   "execution_count": null,
   "metadata": {
    "colab": {},
    "colab_type": "code",
    "id": "tlgBiU4ZsZY5"
   },
   "outputs": [],
   "source": [
    "import sys\n",
    "from absl import app, logging, flags\n",
    "from absl.flags import FLAGS\n",
    "import time\n",
    "import cv2\n",
    "import numpy as np\n",
    "import tensorflow as tf\n",
    "from yolov3_tf2.models import (\n",
    "    YoloV3, YoloV3Tiny\n",
    ")\n",
    "from yolov3_tf2.dataset import transform_images, load_tfrecord_dataset\n",
    "from yolov3_tf2.utils import draw_outputs\n",
    "\n",
    "flags.DEFINE_string('classes', './data/auair.names', 'path to classes file')\n",
    "flags.DEFINE_string('weights', './checkpoints/yolov3.tf',\n",
    "                    'path to weights file')\n",
    "flags.DEFINE_boolean('tiny', False, 'yolov3 or yolov3-tiny')\n",
    "flags.DEFINE_integer('size', 416, 'resize images to')\n",
    "flags.DEFINE_string('image', './data/parking_lot.jpg', 'path to input image')\n",
    "flags.DEFINE_string('tfrecord', None, 'tfrecord instead of image')\n",
    "flags.DEFINE_string('output', './output.jpg', 'path to output image')\n",
    "flags.DEFINE_integer('num_classes', 8, 'number of classes in the model')\n",
    "\n",
    "app._run_init(['yolov3'], app.parse_flags_with_usage)\n",
    "\n",
    "physical_devices = tf.config.experimental.list_physical_devices('GPU')\n",
    "tf.config.experimental.set_memory_growth(physical_devices[0], True)"
   ]
  },
  {
   "cell_type": "markdown",
   "metadata": {
    "colab_type": "text",
    "id": "laxApAGV07kw"
   },
   "source": [
    "##### 4. Detect Image"
   ]
  },
  {
   "cell_type": "code",
   "execution_count": null,
   "metadata": {
    "colab": {
     "base_uri": "https://localhost:8080/",
     "height": 757
    },
    "colab_type": "code",
    "id": "2iKC1pvBnkDk",
    "outputId": "b15566f3-7c22-433e-c57b-d0e508d794cb"
   },
   "outputs": [],
   "source": [
    "if FLAGS.tiny:\n",
    "    yolo = YoloV3Tiny(classes=FLAGS.num_classes)\n",
    "else:\n",
    "    yolo = YoloV3(classes=FLAGS.num_classes)\n",
    "      \n",
    "yolo.load_weights(FLAGS.weights).expect_partial()\n",
    "logging.info('weights loaded')\n",
    "\n",
    "class_names = [c.strip() for c in open(FLAGS.classes).readlines()]\n",
    "logging.info('classes loaded')\n",
    "\n",
    "img_raw = tf.image.decode_image(\n",
    "    open(FLAGS.image, 'rb').read(), channels=3)\n",
    "\n",
    "img = tf.expand_dims(img_raw, 0)\n",
    "img = transform_images(img, FLAGS.size)\n",
    "\n",
    "t1 = time.time()\n",
    "boxes, scores, classes, nums = yolo(img)\n",
    "t2 = time.time()\n",
    "logging.info('time: {}'.format(t2 - t1))\n",
    "\n",
    "logging.info('detections:')\n",
    "for i in range(nums[0]):\n",
    "    logging.info('\\t{}, {}, {}'.format(class_names[int(classes[0][i])],\n",
    "                                        np.array(scores[0][i]),\n",
    "                                        np.array(boxes[0][i])))\n",
    "\n",
    "img = cv2.cvtColor(img_raw.numpy(), cv2.COLOR_RGB2BGR)\n",
    "img = draw_outputs(img, (boxes, scores, classes, nums), class_names)\n",
    "\n",
    "from IPython.display import Image, display\n",
    "display(Image(data=bytes(cv2.imencode('.jpg', img)[1]), width=800))"
   ]
  },
  {
   "cell_type": "markdown",
   "metadata": {
    "colab_type": "text",
    "id": "zgtlCN1m1TKG"
   },
   "source": [
    "##### 6. Detect using new weights"
   ]
  },
  {
   "cell_type": "code",
   "execution_count": null,
   "metadata": {
    "colab": {
     "base_uri": "https://localhost:8080/",
     "height": 706
    },
    "colab_type": "code",
    "id": "wok7x44vNYuP",
    "outputId": "45e152d6-041a-48c9-813d-9d1588d5b4b8"
   },
   "outputs": [],
   "source": [
    "FLAGS.num_classes = 20\n",
    "FLAGS.classes = 'data/voc2012.names'\n",
    "FLAGS.weights = 'checkpoints/yolov3_train_3.tf'\n",
    "FLAGS.image = 'data/meme.jpg'\n",
    "\n",
    "# Lower threshold due to insufficient training\n",
    "FLAGS.yolo_iou_threshold = 0.2\n",
    "FLAGS.yolo_score_threshold = 0.2\n",
    "\n",
    "if FLAGS.tiny:\n",
    "    yolo = YoloV3Tiny(classes=FLAGS.num_classes)\n",
    "else:\n",
    "    yolo = YoloV3(classes=FLAGS.num_classes)\n",
    "\n",
    "yolo.load_weights(FLAGS.weights).expect_partial()\n",
    "logging.info('weights loaded')\n",
    "\n",
    "class_names = [c.strip() for c in open(FLAGS.classes).readlines()]\n",
    "logging.info('classes loaded')\n",
    "\n",
    "img_raw = tf.image.decode_image(\n",
    "    open(FLAGS.image, 'rb').read(), channels=3)\n",
    "\n",
    "img = tf.expand_dims(img_raw, 0)\n",
    "img = transform_images(img, FLAGS.size)\n",
    "\n",
    "t1 = time.time()\n",
    "boxes, scores, classes, nums = yolo(img)\n",
    "t2 = time.time()\n",
    "logging.info('time: {}'.format(t2 - t1))\n",
    "\n",
    "logging.info('detections:')\n",
    "for i in range(nums[0]):\n",
    "    logging.info('\\t{}, {}, {}'.format(class_names[int(classes[0][i])],\n",
    "                                        np.array(scores[0][i]),\n",
    "                                        np.array(boxes[0][i])))\n",
    "\n",
    "img = cv2.cvtColor(img_raw.numpy(), cv2.COLOR_RGB2BGR)\n",
    "img = draw_outputs(img, (boxes, scores, classes, nums), class_names)\n",
    "\n",
    "from IPython.display import Image, display\n",
    "display(Image(data=bytes(cv2.imencode('.jpg', img)[1]), width=800))"
   ]
  },
  {
   "cell_type": "code",
   "execution_count": null,
   "metadata": {
    "colab": {},
    "colab_type": "code",
    "id": "esTFKZzX7jYj"
   },
   "outputs": [],
   "source": []
  }
 ],
 "metadata": {
  "accelerator": "GPU",
  "colab": {
   "collapsed_sections": [],
   "include_colab_link": true,
   "name": "colab_gpu.ipynb",
   "provenance": []
  },
  "kernelspec": {
   "display_name": "Python 3",
   "language": "python",
   "name": "python3"
  },
  "language_info": {
   "codemirror_mode": {
    "name": "ipython",
    "version": 3
   },
   "file_extension": ".py",
   "mimetype": "text/x-python",
   "name": "python",
   "nbconvert_exporter": "python",
   "pygments_lexer": "ipython3",
   "version": "3.8.1"
  }
 },
 "nbformat": 4,
 "nbformat_minor": 1
}
